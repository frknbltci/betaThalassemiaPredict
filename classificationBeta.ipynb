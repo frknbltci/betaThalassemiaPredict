{
 "cells": [
  {
   "cell_type": "code",
   "execution_count": 5,
   "metadata": {
    "scrolled": false
   },
   "outputs": [
    {
     "name": "stderr",
     "output_type": "stream",
     "text": [
      "C:\\Users\\fbalt\\AppData\\Local\\Continuum\\anaconda3\\lib\\site-packages\\sklearn\\utils\\deprecation.py:58: DeprecationWarning: Class Imputer is deprecated; Imputer was deprecated in version 0.20 and will be removed in 0.22. Import impute.SimpleImputer from sklearn instead.\n",
      "  warnings.warn(msg, category=DeprecationWarning)\n"
     ]
    },
    {
     "name": "stdout",
     "output_type": "stream",
     "text": [
      "Train on 26 samples, validate on 4 samples\n",
      "Epoch 1/20\n",
      "26/26 [==============================] - 1s 42ms/step - loss: 5.5083 - acc: 0.0000e+00 - val_loss: 5.4555 - val_acc: 0.0000e+00\n",
      "Epoch 2/20\n",
      "26/26 [==============================] - 0s 384us/step - loss: 5.4309 - acc: 0.0385 - val_loss: 5.3821 - val_acc: 0.0000e+00\n",
      "Epoch 3/20\n",
      "26/26 [==============================] - 0s 422us/step - loss: 5.3529 - acc: 0.5769 - val_loss: 5.3038 - val_acc: 0.0000e+00\n",
      "Epoch 4/20\n",
      "26/26 [==============================] - 0s 499us/step - loss: 5.2720 - acc: 0.5769 - val_loss: 5.2197 - val_acc: 0.0000e+00\n",
      "Epoch 5/20\n",
      "26/26 [==============================] - 0s 498us/step - loss: 5.1865 - acc: 0.5769 - val_loss: 5.1266 - val_acc: 0.0000e+00\n",
      "Epoch 6/20\n",
      "26/26 [==============================] - 0s 652us/step - loss: 5.0950 - acc: 0.5769 - val_loss: 5.0246 - val_acc: 0.0000e+00\n",
      "Epoch 7/20\n",
      "26/26 [==============================] - 0s 345us/step - loss: 4.9967 - acc: 0.6154 - val_loss: 4.9136 - val_acc: 0.0000e+00\n",
      "Epoch 8/20\n",
      "26/26 [==============================] - 0s 537us/step - loss: 4.8909 - acc: 0.6154 - val_loss: 4.7936 - val_acc: 0.0000e+00\n",
      "Epoch 9/20\n",
      "26/26 [==============================] - 0s 498us/step - loss: 4.7763 - acc: 0.6154 - val_loss: 4.6633 - val_acc: 0.0000e+00\n",
      "Epoch 10/20\n",
      "26/26 [==============================] - 0s 384us/step - loss: 4.6517 - acc: 0.6154 - val_loss: 4.5209 - val_acc: 0.0000e+00\n",
      "Epoch 11/20\n",
      "26/26 [==============================] - 0s 422us/step - loss: 4.5156 - acc: 0.6154 - val_loss: 4.3655 - val_acc: 0.0000e+00\n",
      "Epoch 12/20\n",
      "26/26 [==============================] - 0s 460us/step - loss: 4.3671 - acc: 0.6154 - val_loss: 4.1952 - val_acc: 0.0000e+00\n",
      "Epoch 13/20\n",
      "26/26 [==============================] - 0s 422us/step - loss: 4.2052 - acc: 0.6154 - val_loss: 4.0090 - val_acc: 0.0000e+00\n",
      "Epoch 14/20\n",
      "26/26 [==============================] - 0s 384us/step - loss: 4.0286 - acc: 0.6154 - val_loss: 3.8058 - val_acc: 0.0000e+00\n",
      "Epoch 15/20\n",
      "26/26 [==============================] - 0s 460us/step - loss: 3.8365 - acc: 0.6154 - val_loss: 3.5856 - val_acc: 0.0000e+00\n",
      "Epoch 16/20\n",
      "26/26 [==============================] - 0s 345us/step - loss: 3.6280 - acc: 0.6154 - val_loss: 3.3475 - val_acc: 0.0000e+00\n",
      "Epoch 17/20\n",
      "26/26 [==============================] - 0s 384us/step - loss: 3.4033 - acc: 0.6154 - val_loss: 3.0938 - val_acc: 0.0000e+00\n",
      "Epoch 18/20\n",
      "26/26 [==============================] - 0s 384us/step - loss: 3.1625 - acc: 0.6154 - val_loss: 2.8272 - val_acc: 0.0000e+00\n",
      "Epoch 19/20\n",
      "26/26 [==============================] - 0s 422us/step - loss: 2.9073 - acc: 0.6154 - val_loss: 2.5542 - val_acc: 0.0000e+00\n",
      "Epoch 20/20\n",
      "26/26 [==============================] - 0s 461us/step - loss: 2.6409 - acc: 0.6154 - val_loss: 2.2836 - val_acc: 0.0000e+00\n",
      "[0]\n"
     ]
    }
   ],
   "source": [
    "# -*- coding: utf-8 -*-\n",
    "\n",
    "from keras.models import Sequential\n",
    "from keras.layers import Dense, Dropout, Activation\n",
    "import keras\n",
    "from keras.layers import Input, Dense\n",
    "from keras.optimizers import SGD\n",
    "\n",
    "from sklearn.preprocessing import Imputer\n",
    "import numpy as np\n",
    "import pandas as pd\n",
    "\n",
    "veri=pd.read_excel('BThTest.xlsx', index_col=0,dtype={'Name': str, 'Value': float})\n",
    "\n",
    "\n",
    "veri.replace('?', -99999, inplace=True)\n",
    "\n",
    "\n",
    "imp = Imputer(missing_values=-99999, strategy=\"mean\",axis=0)\n",
    "veriyeni = imp.fit_transform(veri)\n",
    "\n",
    "\n",
    "giris = veriyeni[:,0:5]\n",
    "cikis = veriyeni[:,5:6]    \n",
    "\n",
    "\n",
    "model=Sequential()\n",
    "model.add(Dense(256,input_dim=5))\n",
    "model.add(Activation('relu'))\n",
    "model.add(Dense(256))\n",
    "model.add(Activation('relu'))\n",
    "model.add(Dense(256))\n",
    "model.add(Activation('softmax')) \n",
    "\n",
    "model.compile(optimizer='adam',loss='sparse_categorical_crossentropy',metrics=['accuracy'])\n",
    "\n",
    "model.fit(giris,cikis,epochs=20,batch_size=64,validation_split=0.13)\n",
    "\n",
    "\n",
    "tahmin = np.array([0,0,0.1,1,1]).reshape(1,5)\n",
    "print(model.predict_classes(tahmin))"
   ]
  },
  {
   "cell_type": "code",
   "execution_count": null,
   "metadata": {},
   "outputs": [],
   "source": []
  }
 ],
 "metadata": {
  "kernelspec": {
   "display_name": "Python 3",
   "language": "python",
   "name": "python3"
  },
  "language_info": {
   "codemirror_mode": {
    "name": "ipython",
    "version": 3
   },
   "file_extension": ".py",
   "mimetype": "text/x-python",
   "name": "python",
   "nbconvert_exporter": "python",
   "pygments_lexer": "ipython3",
   "version": "3.7.1"
  }
 },
 "nbformat": 4,
 "nbformat_minor": 2
}
